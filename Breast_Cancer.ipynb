{
 "cells": [
  {
   "cell_type": "code",
   "execution_count": 1,
   "id": "08fa4c75-8d8c-486b-a7c4-501fad51959d",
   "metadata": {},
   "outputs": [
    {
     "name": "stdout",
     "output_type": "stream",
     "text": [
      "         0  1      2      3       4       5        6        7       8   \\\n",
      "0    842302  M  17.99  10.38  122.80  1001.0  0.11840  0.27760  0.3001   \n",
      "1    842517  M  20.57  17.77  132.90  1326.0  0.08474  0.07864  0.0869   \n",
      "2  84300903  M  19.69  21.25  130.00  1203.0  0.10960  0.15990  0.1974   \n",
      "3  84348301  M  11.42  20.38   77.58   386.1  0.14250  0.28390  0.2414   \n",
      "4  84358402  M  20.29  14.34  135.10  1297.0  0.10030  0.13280  0.1980   \n",
      "\n",
      "        9   ...     22     23      24      25      26      27      28      29  \\\n",
      "0  0.14710  ...  25.38  17.33  184.60  2019.0  0.1622  0.6656  0.7119  0.2654   \n",
      "1  0.07017  ...  24.99  23.41  158.80  1956.0  0.1238  0.1866  0.2416  0.1860   \n",
      "2  0.12790  ...  23.57  25.53  152.50  1709.0  0.1444  0.4245  0.4504  0.2430   \n",
      "3  0.10520  ...  14.91  26.50   98.87   567.7  0.2098  0.8663  0.6869  0.2575   \n",
      "4  0.10430  ...  22.54  16.67  152.20  1575.0  0.1374  0.2050  0.4000  0.1625   \n",
      "\n",
      "       30       31  \n",
      "0  0.4601  0.11890  \n",
      "1  0.2750  0.08902  \n",
      "2  0.3613  0.08758  \n",
      "3  0.6638  0.17300  \n",
      "4  0.2364  0.07678  \n",
      "\n",
      "[5 rows x 32 columns]\n"
     ]
    }
   ],
   "source": [
    "### Breast Cancer Data acquired from Wisconsin\n",
    "## https://archive.ics.uci.edu/dataset/17/breast+cancer+wisconsin+diagnostic\n",
    "\n",
    "import pandas as pd\n",
    "\n",
    "# Load the first few rows to inspect the file structure\n",
    "df = pd.read_csv('wdbc.data', delimiter=',', header=None, nrows=569)  # Adjust delimiter as needed\n",
    "print(df.head())"
   ]
  },
  {
   "cell_type": "code",
   "execution_count": 2,
   "id": "3fbac1ee-bc94-4b56-8bee-95a68e40e62f",
   "metadata": {},
   "outputs": [
    {
     "name": "stderr",
     "output_type": "stream",
     "text": [
      "/var/folders/rx/m8prdkhx6312x5qsk_xvrvrw0000gn/T/ipykernel_32056/4090669114.py:13: FutureWarning: Downcasting behavior in `replace` is deprecated and will be removed in a future version. To retain the old behavior, explicitly call `result.infer_objects(copy=False)`. To opt-in to the future behavior, set `pd.set_option('future.no_silent_downcasting', True)`\n",
      "  y = df[df.columns[1]].replace({'B': 0, 'M': 1})\n"
     ]
    }
   ],
   "source": [
    "import pandas as pd\n",
    "from sklearn.model_selection import train_test_split\n",
    "from sklearn.preprocessing import StandardScaler, LabelEncoder\n",
    "from tensorflow.keras.models import Sequential\n",
    "from tensorflow.keras.layers import Dense\n",
    "from tensorflow.keras.utils import to_categorical\n",
    "\n",
    "#  'df' is your DataFrame after loading the Excel file\n",
    "#df = pd.read_table('wdbc.data', delimiter=',', header=None)  # Use '\\s+' for spaces, and \\t for tabular data\n",
    "\n",
    "# Separate features and target\n",
    "X = df.drop(df.columns[[0, 1]], axis=1)\n",
    "y = df[df.columns[1]].replace({'B': 0, 'M': 1})\n",
    "\n",
    "# Encode the categorical target variable\n",
    "label_encoder = LabelEncoder()\n",
    "y_encoded = label_encoder.fit_transform(y)\n",
    "y_categorical = to_categorical(y_encoded)\n",
    "\n",
    "# Split data into training, validation, and test sets\n",
    "X_train, X_test, y_train, y_test = train_test_split(X, y_categorical, test_size=0.2, random_state=42)\n",
    "\n",
    "# Standardize the features\n",
    "scaler = StandardScaler()\n",
    "X_train_scaled = scaler.fit_transform(X_train)\n",
    "X_test_scaled = scaler.transform(X_test)\n",
    "\n",
    "# Define the neural network model\n",
    "model = Sequential([\n",
    "    Dense(64, input_shape=(X_train_scaled.shape[1],), activation='relu'),\n",
    "    Dense(32, activation='relu'),\n",
    "    Dense(8, activation='relu'),\n",
    "    Dense(y_categorical.shape[1], activation='softmax')  # Output layer\n",
    "])\n",
    "\n",
    "# Compile the model\n",
    "model.compile(optimizer='adam', loss='categorical_crossentropy', metrics=['accuracy'])\n"
   ]
  },
  {
   "cell_type": "code",
   "execution_count": 3,
   "id": "7170c4ed-8b0d-416d-9b8c-31289872a9ce",
   "metadata": {
    "scrolled": true
   },
   "outputs": [
    {
     "name": "stdout",
     "output_type": "stream",
     "text": [
      "Epoch 1/50\n",
      "13/13 [==============================] - 0s 6ms/step - loss: 0.4831 - accuracy: 0.8020 - val_loss: 0.3002 - val_accuracy: 0.9348\n",
      "Epoch 2/50\n",
      "13/13 [==============================] - 0s 1ms/step - loss: 0.2331 - accuracy: 0.9315 - val_loss: 0.1724 - val_accuracy: 0.9565\n",
      "Epoch 3/50\n",
      "13/13 [==============================] - 0s 1ms/step - loss: 0.1531 - accuracy: 0.9389 - val_loss: 0.1302 - val_accuracy: 0.9348\n",
      "Epoch 4/50\n",
      "13/13 [==============================] - 0s 1ms/step - loss: 0.1162 - accuracy: 0.9560 - val_loss: 0.1118 - val_accuracy: 0.9565\n",
      "Epoch 5/50\n",
      "13/13 [==============================] - 0s 1ms/step - loss: 0.0947 - accuracy: 0.9731 - val_loss: 0.1013 - val_accuracy: 0.9565\n",
      "Epoch 6/50\n",
      "13/13 [==============================] - 0s 1ms/step - loss: 0.0785 - accuracy: 0.9756 - val_loss: 0.0901 - val_accuracy: 0.9565\n",
      "Epoch 7/50\n",
      "13/13 [==============================] - 0s 1ms/step - loss: 0.0672 - accuracy: 0.9829 - val_loss: 0.0857 - val_accuracy: 0.9565\n",
      "Epoch 8/50\n",
      "13/13 [==============================] - 0s 1ms/step - loss: 0.0599 - accuracy: 0.9853 - val_loss: 0.0777 - val_accuracy: 0.9565\n",
      "Epoch 9/50\n",
      "13/13 [==============================] - 0s 1ms/step - loss: 0.0510 - accuracy: 0.9878 - val_loss: 0.0739 - val_accuracy: 0.9565\n",
      "Epoch 10/50\n",
      "13/13 [==============================] - 0s 1ms/step - loss: 0.0457 - accuracy: 0.9878 - val_loss: 0.0703 - val_accuracy: 0.9565\n",
      "Epoch 11/50\n",
      "13/13 [==============================] - 0s 1ms/step - loss: 0.0395 - accuracy: 0.9902 - val_loss: 0.0681 - val_accuracy: 0.9565\n",
      "Epoch 12/50\n",
      "13/13 [==============================] - 0s 1ms/step - loss: 0.0362 - accuracy: 0.9927 - val_loss: 0.0657 - val_accuracy: 0.9783\n",
      "Epoch 13/50\n",
      "13/13 [==============================] - 0s 1ms/step - loss: 0.0311 - accuracy: 0.9927 - val_loss: 0.0655 - val_accuracy: 0.9783\n",
      "Epoch 14/50\n",
      "13/13 [==============================] - 0s 1ms/step - loss: 0.0297 - accuracy: 0.9927 - val_loss: 0.0652 - val_accuracy: 0.9783\n",
      "Epoch 15/50\n",
      "13/13 [==============================] - 0s 1ms/step - loss: 0.0267 - accuracy: 0.9927 - val_loss: 0.0690 - val_accuracy: 0.9783\n",
      "Epoch 16/50\n",
      "13/13 [==============================] - 0s 1ms/step - loss: 0.0226 - accuracy: 0.9927 - val_loss: 0.0663 - val_accuracy: 0.9783\n",
      "Epoch 17/50\n",
      "13/13 [==============================] - 0s 1ms/step - loss: 0.0208 - accuracy: 0.9951 - val_loss: 0.0656 - val_accuracy: 0.9783\n",
      "Epoch 18/50\n",
      "13/13 [==============================] - 0s 1ms/step - loss: 0.0184 - accuracy: 0.9951 - val_loss: 0.0649 - val_accuracy: 0.9783\n",
      "Epoch 19/50\n",
      "13/13 [==============================] - 0s 1ms/step - loss: 0.0172 - accuracy: 0.9951 - val_loss: 0.0660 - val_accuracy: 0.9783\n",
      "Epoch 20/50\n",
      "13/13 [==============================] - 0s 1ms/step - loss: 0.0139 - accuracy: 0.9951 - val_loss: 0.0626 - val_accuracy: 0.9783\n",
      "Epoch 21/50\n",
      "13/13 [==============================] - 0s 1ms/step - loss: 0.0126 - accuracy: 0.9951 - val_loss: 0.0611 - val_accuracy: 0.9783\n",
      "Epoch 22/50\n",
      "13/13 [==============================] - 0s 1ms/step - loss: 0.0110 - accuracy: 0.9951 - val_loss: 0.0620 - val_accuracy: 0.9783\n",
      "Epoch 23/50\n",
      "13/13 [==============================] - 0s 1ms/step - loss: 0.0094 - accuracy: 0.9976 - val_loss: 0.0600 - val_accuracy: 0.9783\n",
      "Epoch 24/50\n",
      "13/13 [==============================] - 0s 1ms/step - loss: 0.0086 - accuracy: 0.9951 - val_loss: 0.0590 - val_accuracy: 0.9783\n",
      "Epoch 25/50\n",
      "13/13 [==============================] - 0s 1ms/step - loss: 0.0074 - accuracy: 1.0000 - val_loss: 0.0575 - val_accuracy: 0.9783\n",
      "Epoch 26/50\n",
      "13/13 [==============================] - 0s 1ms/step - loss: 0.0069 - accuracy: 1.0000 - val_loss: 0.0543 - val_accuracy: 0.9783\n",
      "Epoch 27/50\n",
      "13/13 [==============================] - 0s 1ms/step - loss: 0.0059 - accuracy: 1.0000 - val_loss: 0.0568 - val_accuracy: 0.9783\n",
      "Epoch 28/50\n",
      "13/13 [==============================] - 0s 1ms/step - loss: 0.0062 - accuracy: 1.0000 - val_loss: 0.0554 - val_accuracy: 0.9783\n",
      "Epoch 29/50\n",
      "13/13 [==============================] - 0s 1ms/step - loss: 0.0056 - accuracy: 1.0000 - val_loss: 0.0540 - val_accuracy: 0.9783\n",
      "Epoch 30/50\n",
      "13/13 [==============================] - 0s 1ms/step - loss: 0.0046 - accuracy: 1.0000 - val_loss: 0.0548 - val_accuracy: 0.9783\n",
      "Epoch 31/50\n",
      "13/13 [==============================] - 0s 1ms/step - loss: 0.0040 - accuracy: 1.0000 - val_loss: 0.0499 - val_accuracy: 0.9783\n",
      "Epoch 32/50\n",
      "13/13 [==============================] - 0s 1ms/step - loss: 0.0036 - accuracy: 1.0000 - val_loss: 0.0515 - val_accuracy: 0.9783\n",
      "Epoch 33/50\n",
      "13/13 [==============================] - 0s 1ms/step - loss: 0.0032 - accuracy: 1.0000 - val_loss: 0.0482 - val_accuracy: 0.9783\n",
      "Epoch 34/50\n",
      "13/13 [==============================] - 0s 1ms/step - loss: 0.0029 - accuracy: 1.0000 - val_loss: 0.0482 - val_accuracy: 0.9783\n",
      "Epoch 35/50\n",
      "13/13 [==============================] - 0s 1ms/step - loss: 0.0029 - accuracy: 1.0000 - val_loss: 0.0501 - val_accuracy: 0.9565\n",
      "Epoch 36/50\n",
      "13/13 [==============================] - 0s 1ms/step - loss: 0.0030 - accuracy: 1.0000 - val_loss: 0.0453 - val_accuracy: 0.9783\n",
      "Epoch 37/50\n",
      "13/13 [==============================] - 0s 1ms/step - loss: 0.0023 - accuracy: 1.0000 - val_loss: 0.0487 - val_accuracy: 0.9565\n",
      "Epoch 38/50\n",
      "13/13 [==============================] - 0s 1ms/step - loss: 0.0018 - accuracy: 1.0000 - val_loss: 0.0432 - val_accuracy: 0.9783\n",
      "Epoch 39/50\n",
      "13/13 [==============================] - 0s 1ms/step - loss: 0.0018 - accuracy: 1.0000 - val_loss: 0.0427 - val_accuracy: 0.9783\n",
      "Epoch 40/50\n",
      "13/13 [==============================] - 0s 1ms/step - loss: 0.0018 - accuracy: 1.0000 - val_loss: 0.0452 - val_accuracy: 0.9783\n",
      "Epoch 41/50\n",
      "13/13 [==============================] - 0s 1ms/step - loss: 0.0015 - accuracy: 1.0000 - val_loss: 0.0436 - val_accuracy: 0.9783\n",
      "Epoch 42/50\n",
      "13/13 [==============================] - 0s 1ms/step - loss: 0.0014 - accuracy: 1.0000 - val_loss: 0.0426 - val_accuracy: 0.9783\n",
      "Epoch 43/50\n",
      "13/13 [==============================] - 0s 1ms/step - loss: 0.0014 - accuracy: 1.0000 - val_loss: 0.0442 - val_accuracy: 0.9783\n",
      "Epoch 44/50\n",
      "13/13 [==============================] - 0s 1ms/step - loss: 0.0012 - accuracy: 1.0000 - val_loss: 0.0428 - val_accuracy: 1.0000\n",
      "Epoch 45/50\n",
      "13/13 [==============================] - 0s 1ms/step - loss: 0.0011 - accuracy: 1.0000 - val_loss: 0.0419 - val_accuracy: 1.0000\n",
      "Epoch 46/50\n",
      "13/13 [==============================] - 0s 1ms/step - loss: 0.0010 - accuracy: 1.0000 - val_loss: 0.0413 - val_accuracy: 1.0000\n",
      "Epoch 47/50\n",
      "13/13 [==============================] - 0s 1ms/step - loss: 0.0010 - accuracy: 1.0000 - val_loss: 0.0432 - val_accuracy: 0.9783\n",
      "Epoch 48/50\n",
      "13/13 [==============================] - 0s 1ms/step - loss: 9.3170e-04 - accuracy: 1.0000 - val_loss: 0.0420 - val_accuracy: 0.9783\n",
      "Epoch 49/50\n",
      "13/13 [==============================] - 0s 1ms/step - loss: 8.7384e-04 - accuracy: 1.0000 - val_loss: 0.0404 - val_accuracy: 1.0000\n",
      "Epoch 50/50\n",
      "13/13 [==============================] - 0s 1ms/step - loss: 8.5287e-04 - accuracy: 1.0000 - val_loss: 0.0417 - val_accuracy: 0.9783\n",
      "4/4 [==============================] - 0s 648us/step - loss: 0.1538 - accuracy: 0.9561\n",
      "Test Accuracy: 0.9561403393745422\n"
     ]
    }
   ],
   "source": [
    "# Train the model\n",
    "model.fit(X_train_scaled, y_train, validation_split=0.1, epochs=50, batch_size=32)\n",
    "\n",
    "# Evaluate the model on the test set\n",
    "test_loss, test_acc = model.evaluate(X_test_scaled, y_test)\n",
    "print(f'Test Accuracy: {test_acc}')"
   ]
  },
  {
   "cell_type": "code",
   "execution_count": null,
   "id": "a00fede4-982f-45e8-ad97-0d7023d14130",
   "metadata": {},
   "outputs": [],
   "source": []
  },
  {
   "cell_type": "code",
   "execution_count": 4,
   "id": "5908dfc3-672f-432f-9276-17a6877fdf0d",
   "metadata": {},
   "outputs": [
    {
     "name": "stdout",
     "output_type": "stream",
     "text": [
      "Accuracy: 0.947\n"
     ]
    },
    {
     "name": "stderr",
     "output_type": "stream",
     "text": [
      "/var/folders/rx/m8prdkhx6312x5qsk_xvrvrw0000gn/T/ipykernel_31903/1976642867.py:14: FutureWarning: Downcasting behavior in `replace` is deprecated and will be removed in a future version. To retain the old behavior, explicitly call `result.infer_objects(copy=False)`. To opt-in to the future behavior, set `pd.set_option('future.no_silent_downcasting', True)`\n",
      "  y = df['Diagnosis'].replace({'B': 0, 'M': 1})\n"
     ]
    }
   ],
   "source": [
    "from sklearn.tree import DecisionTreeClassifier\n",
    "from sklearn.model_selection import train_test_split\n",
    "from sklearn.metrics import accuracy_score\n",
    "import pandas as pd\n",
    "\n",
    "# Load your data\n",
    "\n",
    "# Assign column names if needed\n",
    "column_names = ['ID', 'Diagnosis'] + [f'Feature_{i}' for i in range(1, 31)]\n",
    "df.columns = column_names\n",
    "\n",
    "# Drop 'ID', encode 'Diagnosis', separate features and target\n",
    "X = df.drop(['ID', 'Diagnosis'], axis=1)\n",
    "y = df['Diagnosis'].replace({'B': 0, 'M': 1})\n",
    "\n",
    "# Split data into training and testing sets\n",
    "X_train, X_test, y_train, y_test = train_test_split(X, y, test_size=0.2, random_state=42)\n",
    "\n",
    "# Initialize and train the Decision Tree Classifier\n",
    "clf = DecisionTreeClassifier(random_state=42)\n",
    "clf.fit(X_train, y_train)\n",
    "\n",
    "# Make predictions and evaluate the model\n",
    "y_pred = clf.predict(X_test)\n",
    "accuracy = accuracy_score(y_test, y_pred)\n",
    "print(f'Accuracy: {accuracy:.3f}')"
   ]
  },
  {
   "cell_type": "code",
   "execution_count": 5,
   "id": "050ae9c1-35af-464a-b05d-5a15814c8f6e",
   "metadata": {},
   "outputs": [
    {
     "name": "stdout",
     "output_type": "stream",
     "text": [
      "Accuracy: 0.96\n"
     ]
    },
    {
     "name": "stderr",
     "output_type": "stream",
     "text": [
      "/var/folders/rx/m8prdkhx6312x5qsk_xvrvrw0000gn/T/ipykernel_31903/3188067338.py:8: FutureWarning: Downcasting behavior in `replace` is deprecated and will be removed in a future version. To retain the old behavior, explicitly call `result.infer_objects(copy=False)`. To opt-in to the future behavior, set `pd.set_option('future.no_silent_downcasting', True)`\n",
      "  y = df[df.columns[1]].replace({'B': 0, 'M': 1})\n"
     ]
    }
   ],
   "source": [
    "from xgboost import XGBClassifier\n",
    "from sklearn.model_selection import train_test_split\n",
    "from sklearn.metrics import accuracy_score\n",
    "import pandas as pd\n",
    "\n",
    "# Data already loaded\n",
    "X = df.drop(df.columns[[0, 1]], axis=1)\n",
    "y = df[df.columns[1]].replace({'B': 0, 'M': 1})\n",
    "\n",
    "# Split data into training and testing sets\n",
    "X_train, X_test, y_train, y_test = train_test_split(X, y, test_size=0.2, random_state=42)\n",
    "\n",
    "# Initialize and train the XGBoost Classifier\n",
    "xgb_clf = XGBClassifier(use_label_encoder=False, eval_metric='logloss')\n",
    "xgb_clf.fit(X_train, y_train)\n",
    "\n",
    "# Make predictions and evaluate the model\n",
    "y_pred = xgb_clf.predict(X_test)\n",
    "accuracy = accuracy_score(y_test, y_pred)\n",
    "print(f'Accuracy: {accuracy:.2f}')"
   ]
  },
  {
   "cell_type": "code",
   "execution_count": null,
   "id": "ca80760a-058a-4caf-85d4-a165161ed7de",
   "metadata": {},
   "outputs": [],
   "source": []
  }
 ],
 "metadata": {
  "kernelspec": {
   "display_name": "python3.9",
   "language": "python",
   "name": "python3.9"
  },
  "language_info": {
   "codemirror_mode": {
    "name": "ipython",
    "version": 3
   },
   "file_extension": ".py",
   "mimetype": "text/x-python",
   "name": "python",
   "nbconvert_exporter": "python",
   "pygments_lexer": "ipython3",
   "version": "3.9.6"
  }
 },
 "nbformat": 4,
 "nbformat_minor": 5
}
